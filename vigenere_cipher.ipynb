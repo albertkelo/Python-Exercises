{
 "cells": [
  {
   "cell_type": "markdown",
   "metadata": {},
   "source": [
    "## Implementation of a Vigenère Cipher encoder function\n",
    "The **Vigenère cipher** is a method of encrypting alphabetic text by using a series of interwoven **Caesar ciphers**, based on the letters of a keyword. It employs a form of polyalphabetic substitution.\n",
    "\n",
    "### Description\n",
    "In a **Caesar cipher**, each letter of the alphabet is shifted along some number of places. For example, in a Caesar cipher of shift 3, A would become D, B would become E, Y would become B and so on. The **Vigenère cipher** has several **Caesar ciphers** in sequence with different shift values.\n",
    "\n",
    "To encrypt, a table of alphabets can be used, termed a tabula recta, Vigenère square or Vigenère table. It has the alphabet written out 26 times in different rows, each alphabet shifted cyclically to the left compared to the previous alphabet, corresponding to the 26 possible Caesar ciphers. At different points in the encryption process, the cipher uses a different alphabet from one of the rows. The alphabet used at each point depends on a repeating keyword.\n",
    "\n",
    "For example, suppose that the plaintext to be encrypted is *ATTACKATDAWN*.\n",
    "\n",
    "The person sending the message chooses a keyword and repeats it until it matches the length of the plaintext, for example, the keyword *\"LEMON\"*:\n",
    "\n",
    "*LEMONLEMONLE*\n",
    "\n",
    "Each row starts with a key letter. The rest of the row holds the letters A to Z (in shifted order). Although there are 26 key rows shown, a code will use only as many keys (different alphabets) as there are unique letters in the key string, here just 5 keys: {L, E, M, O, N}. For successive letters of the message, successive letters of the key string will be taken and each message letter enciphered by using its corresponding key row. The next letter of the key is chosen, and that row is gone along to find the column heading that matches the message character. The letter at the intersection of [key-row, msg-col] is the enciphered letter.\n",
    "\n",
    "For example, the first letter of the plaintext, A, is paired with L, the first letter of the key. Therefore, row L and column A of the Vigenère square are used, namely L. Similarly, for the second letter of the plaintext, the second letter of the key is used. The letter at row E and column T is X. The rest of the plaintext is enciphered in a similar fashion:\n",
    "\n",
    "Plaintext:\t*ATTACKATDAWN*\n",
    "<br>Key:\t*LEMONLEMONLE*\n",
    "<br>Ciphertext:\t*LXFOPVEFRNHR*"
   ]
  },
  {
   "cell_type": "code",
   "execution_count": 3,
   "metadata": {},
   "outputs": [
    {
     "name": "stdout",
     "output_type": "stream",
     "text": [
      "DFH\n",
      "WOWAQKADGKESVLDY\n"
     ]
    }
   ],
   "source": [
    "def vigenere(msg, key=\"DATASCI\"):\n",
    "    \"\"\"\n",
    "    Cypher a message input using the Vigenère cipher\n",
    "    \"\"\"\n",
    "    cypher_msg = \"\"\n",
    "\n",
    "    # Convert the message into a text without spaces\n",
    "    msg = msg.replace(' ', '')\n",
    "    \n",
    "    # Define a variable that contains a string with the letters from the abecedary\n",
    "    abc = \"ABCDEFGHIJKLMNOPQRSTUVWXYZ\"\n",
    "    \n",
    "    ### We deal with the length of the key as a function of the message length\n",
    "    \n",
    "    # If the message length is greater than the key, the key is enlarged by concatenating its letters until \n",
    "    # it matches the length of the message\n",
    "    if len(msg) > len(key):\n",
    "        for i in range(int(len(msg) / len(key))):\n",
    "            key += key\n",
    "        key += key[:len(msg) % len(key)]\n",
    "    \n",
    "    # If the message length is smaller than the key, we truncate the key to match the length of the message\n",
    "    elif len(msg) < len(key):\n",
    "        key = key[:len(msg)]\n",
    "\n",
    "    # If the message length is the same as the key, keep the initial key\n",
    "    elif len(msg) == len(key):\n",
    "        key = key\n",
    "\n",
    "    # For loop that will run through the message and assign an index that will code each character\n",
    "    for i in range(len(msg)):\n",
    "        index = (abc.find(msg[i]) + abc.find(key[i]))\n",
    "        cypher_msg += abc[index % len(abc)]\n",
    "    return cypher_msg\n",
    "\n",
    "# Print some examples that use the Vigenère cipher\n",
    "print(vigenere(\"ABC\", \"DEF\"))\n",
    "\n",
    "print(vigenere(\"TODAY IS A GREAT DAY\"))"
   ]
  },
  {
   "cell_type": "code",
   "execution_count": 5,
   "metadata": {},
   "outputs": [
    {
     "name": "stdout",
     "output_type": "stream",
     "text": [
      "DFH\n",
      "WOWAQKADGKESVLDY\n"
     ]
    }
   ],
   "source": [
    "# A more simple implementation of the Vigenère cipher by using the 'string' and 'itertools' libraries\n",
    "\n",
    "def vigenere2(msg, key=\"DATASCI\"):\n",
    "    \n",
    "    cypher_msg = \"\"\n",
    "    \n",
    "    # Convert the message into a text without spaces\n",
    "    msg = msg.replace(' ', '')\n",
    "    \n",
    "    # Define a list with the abecedary in uppercase letters\n",
    "    from string import ascii_uppercase\n",
    "    abc = list(ascii_uppercase)\n",
    "    \n",
    "    # Define the value of the 'index' variable that will run through the assigned message\n",
    "    # assigning the right value to the key\n",
    "    # When we reach the end of the key word, we start again with the 'cycle' method\n",
    "    \n",
    "    from itertools import cycle\n",
    "    \n",
    "    for m, k in zip(msg, cycle(key)):\n",
    "        index = abc.index(m) + abc.index(k)\n",
    "        cypher_msg += abc[index % len(abc)]\n",
    "    \n",
    "    return cypher_msg\n",
    "\n",
    "# Print some examples that use the Vigenère cipher\n",
    "print(vigenere2(\"ABC\", \"DEF\"))\n",
    "\n",
    "print(vigenere2(\"TODAY IS A GREAT DAY\"))"
   ]
  },
  {
   "cell_type": "code",
   "execution_count": null,
   "metadata": {},
   "outputs": [],
   "source": []
  }
 ],
 "metadata": {
  "kernelspec": {
   "display_name": "Python 3",
   "language": "python",
   "name": "python3"
  },
  "language_info": {
   "codemirror_mode": {
    "name": "ipython",
    "version": 3
   },
   "file_extension": ".py",
   "mimetype": "text/x-python",
   "name": "python",
   "nbconvert_exporter": "python",
   "pygments_lexer": "ipython3",
   "version": "3.7.6"
  }
 },
 "nbformat": 4,
 "nbformat_minor": 4
}

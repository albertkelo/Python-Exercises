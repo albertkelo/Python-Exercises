{
 "cells": [
  {
   "cell_type": "markdown",
   "metadata": {},
   "source": [
    "## Implementation of a Vigenère Cipher encoder function\n",
    "The **Vigenère cipher** is a method of encrypting alphabetic text by using a series of interwoven **Caesar ciphers**, based on the letters of a keyword. It employs a form of polyalphabetic substitution.\n",
    "\n"
   ]
  },
  {
   "cell_type": "code",
   "execution_count": 3,
   "metadata": {},
   "outputs": [
    {
     "name": "stdout",
     "output_type": "stream",
     "text": [
      "DFH\n",
      "WOWAQKADGKESVLDY\n"
     ]
    }
   ],
   "source": [
    "def vigenere(msg, key=\"DATASCI\"):\n",
    "    \"\"\"\n",
    "    Cypher a message input using the Vigenère cipher\n",
    "    \"\"\"\n",
    "    cypher_msg = \"\"\n",
    "\n",
    "    # Convert the message into a text without spaces\n",
    "    msg = msg.replace(' ', '')\n",
    "    \n",
    "    # Define a variable that contains a string with the letters from the abecedary\n",
    "    abc = \"ABCDEFGHIJKLMNOPQRSTUVWXYZ\"\n",
    "    \n",
    "    ### We deal with the length of the key as a function of the message length\n",
    "    \n",
    "    # If the message length is greater than the key, the key is enlarged by concatenating its letters until \n",
    "    # it matches the length of the message\n",
    "    if len(msg) > len(key):\n",
    "        for i in range(int(len(msg) / len(key))):\n",
    "            key += key\n",
    "        key += key[:len(msg) % len(key)]\n",
    "    \n",
    "    # If the message length is smaller than the key, we truncate the key to match the length of the message\n",
    "    elif len(msg) < len(key):\n",
    "        key = key[:len(msg)]\n",
    "\n",
    "    # If the message length is the same as the key, keep the initial key\n",
    "    elif len(msg) == len(key):\n",
    "        key = key\n",
    "\n",
    "    # For loop that will run through the message and assign an index that will code each character\n",
    "    for i in range(len(msg)):\n",
    "        index = (abc.find(msg[i]) + abc.find(key[i]))\n",
    "        cypher_msg += abc[index % len(abc)]\n",
    "    return cypher_msg\n",
    "\n",
    "# Print some examples that use the Vigenère cipher\n",
    "print(vigenere(\"ABC\", \"DEF\"))\n",
    "\n",
    "print(vigenere(\"TODAY IS A GREAT DAY\"))"
   ]
  },
  {
   "cell_type": "code",
   "execution_count": 5,
   "metadata": {},
   "outputs": [
    {
     "name": "stdout",
     "output_type": "stream",
     "text": [
      "DFH\n",
      "WOWAQKADGKESVLDY\n"
     ]
    }
   ],
   "source": [
    "# A more simple implementation of the Vigenère cipher by using the 'string' and 'itertools' libraries\n",
    "\n",
    "def vigenere2(msg, key=\"DATASCI\"):\n",
    "    \n",
    "    cypher_msg = \"\"\n",
    "    \n",
    "    # Convert the message into a text without spaces\n",
    "    msg = msg.replace(' ', '')\n",
    "    \n",
    "    # Define a list with the abecedary in uppercase letters\n",
    "    from string import ascii_uppercase\n",
    "    abc = list(ascii_uppercase)\n",
    "    \n",
    "    # Define the value of the 'index' variable that will run through the assigned message\n",
    "    # assigning the right value to the key\n",
    "    # When we reach the end of the key word, we start again with the 'cycle' method\n",
    "    \n",
    "    from itertools import cycle\n",
    "    \n",
    "    for m, k in zip(msg, cycle(key)):\n",
    "        index = abc.index(m) + abc.index(k)\n",
    "        cypher_msg += abc[index % len(abc)]\n",
    "    \n",
    "    return cypher_msg\n",
    "\n",
    "# Print some examples that use the Vigenère cipher\n",
    "print(vigenere2(\"ABC\", \"DEF\"))\n",
    "\n",
    "print(vigenere2(\"TODAY IS A GREAT DAY\"))"
   ]
  },
  {
   "cell_type": "code",
   "execution_count": null,
   "metadata": {},
   "outputs": [],
   "source": []
  }
 ],
 "metadata": {
  "kernelspec": {
   "display_name": "Python 3",
   "language": "python",
   "name": "python3"
  },
  "language_info": {
   "codemirror_mode": {
    "name": "ipython",
    "version": 3
   },
   "file_extension": ".py",
   "mimetype": "text/x-python",
   "name": "python",
   "nbconvert_exporter": "python",
   "pygments_lexer": "ipython3",
   "version": "3.7.6"
  }
 },
 "nbformat": 4,
 "nbformat_minor": 4
}

{
 "cells": [
  {
   "cell_type": "markdown",
   "id": "loaded-commander",
   "metadata": {},
   "source": [
    "# Compute energy levels in an atom\n",
    "The n-th energy level for an electron in a Hydrogen atom is given by\n",
    "\n",
    "$E_{n}=-\\frac{m_{e}e⁴}{8\\epsilon²_{0}h²}·\\frac{1}{n²}$\n",
    "\n",
    "where $m_{e}=9.1094·10^{-31}$ kg is the electron mass, $e=1.6022·10^{-19}$ C is the elementary charge, $\\epsilon_{0}=8.8542·10^{-12}$ C$²$ s$²$ kg$^{-1}$ m$^{-3}$ is the electrical permittivity of vacuum, and $h=6.6261·10^{-34}$ Js.\n",
    "\n",
    "a) Write a Python program that calculates and prints the energy level $E_{n}$ for $n=1,...,20$."
   ]
  },
  {
   "cell_type": "code",
   "execution_count": 14,
   "id": "proper-system",
   "metadata": {},
   "outputs": [
    {
     "name": "stdout",
     "output_type": "stream",
     "text": [
      "n=1 - E_1 = -2.1799777859738434e-18\n",
      "n=2 - E_2 = -5.449944464934609e-19\n",
      "n=3 - E_3 = -2.4221975399709368e-19\n",
      "n=4 - E_4 = -1.3624861162336521e-19\n",
      "n=5 - E_5 = -8.719911143895374e-20\n",
      "n=6 - E_6 = -6.055493849927342e-20\n",
      "n=7 - E_7 = -4.448934257089476e-20\n",
      "n=8 - E_8 = -3.4062152905841303e-20\n",
      "n=9 - E_9 = -2.6913305999677076e-20\n",
      "n=10 - E_10 = -2.1799777859738436e-20\n",
      "n=11 - E_11 = -1.8016345338626805e-20\n",
      "n=12 - E_12 = -1.5138734624818355e-20\n",
      "n=13 - E_13 = -1.2899276840081913e-20\n",
      "n=14 - E_14 = -1.112233564272369e-20\n",
      "n=15 - E_15 = -9.688790159883749e-21\n",
      "n=16 - E_16 = -8.515538226460326e-21\n",
      "n=17 - E_17 = -7.5431757300133e-21\n",
      "n=18 - E_18 = -6.728326499919269e-21\n",
      "n=19 - E_19 = -6.038719628736408e-21\n",
      "n=20 - E_20 = -5.449944464934609e-21\n"
     ]
    }
   ],
   "source": [
    "# Define the variables\n",
    "electron_mass = 9.1094*(10**-31)\n",
    "elementary_charge = 1.6022*(10**-19)\n",
    "electrical_permittivity_vacuum = 8.8542*(10**-12)\n",
    "h = 6.6261*(10**-34)\n",
    "\n",
    "# Define for loop to print energy levels\n",
    "\n",
    "for n in range(1, 21, 1):\n",
    "\n",
    "    # Define formula for n-th level electron in a hydrogen atom\n",
    "    energy_level_n = -((electron_mass*(elementary_charge**4)/(8*(electrical_permittivity_vacuum**2)*(h**2)))*((1)/(n**2)))\n",
    "    \n",
    "    # Print energy levels\n",
    "    print(\"n=\"+ str(n) + \" - \" + \"E_\" + str(n) + \" = \" + str(energy_level_n))"
   ]
  },
  {
   "cell_type": "markdown",
   "id": "advisory-designer",
   "metadata": {},
   "source": [
    "b) The released energy when an electron moves from level $n_{i}$ to level $n_{f}$ is given by\n",
    "\n",
    "$\\Delta E = -\\frac{m_{e}e⁴}{8\\epsilon²_{0}h²}·\\left(\\frac{1}{n²_{i}}-\\frac{1}{n²_{f}}\\right)$.\n",
    "\n",
    "Add statements to the program from a) so that it prints a second, nicely formatted table where the cell in column $i$ and row $f$ contains the energy released when an electron moves from energy level $i$ to level $f$, for $i, f = 1,...,5$."
   ]
  },
  {
   "cell_type": "code",
   "execution_count": null,
   "id": "excellent-traveler",
   "metadata": {},
   "outputs": [],
   "source": []
  }
 ],
 "metadata": {
  "kernelspec": {
   "display_name": "Python 3",
   "language": "python",
   "name": "python3"
  },
  "language_info": {
   "codemirror_mode": {
    "name": "ipython",
    "version": 3
   },
   "file_extension": ".py",
   "mimetype": "text/x-python",
   "name": "python",
   "nbconvert_exporter": "python",
   "pygments_lexer": "ipython3",
   "version": "3.8.8"
  }
 },
 "nbformat": 4,
 "nbformat_minor": 5
}

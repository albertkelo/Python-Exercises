{
 "cells": [
  {
   "cell_type": "code",
   "execution_count": 1,
   "metadata": {},
   "outputs": [],
   "source": [
    "# Function that converts a hexadecimal 'string' into a decimal number\n",
    "\n",
    "def hex_to_dec (hex_num):\n",
    "   \n",
    "    # Define the hexadecimal base, and the initial decimal value and power\n",
    "    base = 16\n",
    "    dec_num = 0\n",
    "    exp = 0\n",
    "    \n",
    "    # Use the enumerate() method to list the index of the previous string\n",
    "    for i,d in enumerate(hex_num):\n",
    "        \n",
    "        # Define a string for the hexadecimal numbers: from 0 to 15\n",
    "        hex_string = \"0123456789ABCDEF\"\n",
    "        hex_num = hex_string.index(d) # Gives a value between 0 and 15\n",
    "        exp = (len(hex_num)-(i+1)) # Number of the exponent that each base will be elevated to\n",
    "        \n",
    "        \"\"\"For each hexadecimal character, we apply the formula: hex_num * base ** exp,\n",
    "        where exp is the decimal representation of hex_num. The result is added with the previous\n",
    "        result from the iteration\"\"\"\n",
    "        dec_num += (hex_num*base**exp)\n",
    "    return dec_num"
   ]
  },
  {
   "cell_type": "code",
   "execution_count": null,
   "metadata": {},
   "outputs": [],
   "source": []
  }
 ],
 "metadata": {
  "kernelspec": {
   "display_name": "Python 3",
   "language": "python",
   "name": "python3"
  },
  "language_info": {
   "codemirror_mode": {
    "name": "ipython",
    "version": 3
   },
   "file_extension": ".py",
   "mimetype": "text/x-python",
   "name": "python",
   "nbconvert_exporter": "python",
   "pygments_lexer": "ipython3",
   "version": "3.7.6"
  }
 },
 "nbformat": 4,
 "nbformat_minor": 4
}
